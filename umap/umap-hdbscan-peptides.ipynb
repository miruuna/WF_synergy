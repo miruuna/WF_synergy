{
 "cells": [
  {
   "cell_type": "code",
   "execution_count": 48,
   "id": "straight-winter",
   "metadata": {},
   "outputs": [],
   "source": [
    "from pathlib import Path\n",
    "from tqdm.auto import tqdm\n",
    "\n",
    "import math\n",
    "import numpy as np\n",
    "\n",
    "from sklearn import preprocessing\n",
    "import umap\n",
    "\n",
    "import matplotlib.pyplot as plt\n",
    "import seaborn as sns\n",
    "\n",
    "import MDAnalysis as mda\n",
    "from MDAnalysis.analysis.align import rotation_matrix\n",
    "from MDAnalysis.analysis.rms import rmsd\n",
    "import pandas as pd\n"
   ]
  },
  {
   "cell_type": "code",
   "execution_count": 115,
   "id": "competitive-location",
   "metadata": {},
   "outputs": [],
   "source": [
    "# Peptides and simulation details\n",
    "\n",
    "title=\"WF1a_WF2\"\n",
    "peptide = \"WF2\"\n",
    "ref_pep = 1 # reference peptide\n",
    "\n",
    "#if you want to chop the peptide\n",
    "start_chop, end_chop = 0, 0\n",
    "\n",
    "# if you want to use carbon alpha atoms only\n",
    "c_alpha = True\n",
    "step_size = 50\n",
    "\n",
    "p = f\"/Volumes/miru_backup/jade_2synergy/popg/WF1a_WF2_pg\"\n",
    "structure = f\"{p}/md_0_1.tpr\"\n",
    "trajectory = f\"{p}/md_0_1_combined.xtc\"\n",
    "\n",
    "output_dir =f\"/Users/mirunaserian/Documents/WF_synergy/umap/WF2_step{step_size}_positions\"\n",
    "Path(output_dir).mkdir(parents=True, exist_ok=True)"
   ]
  },
  {
   "cell_type": "markdown",
   "id": "boolean-focus",
   "metadata": {},
   "source": [
    "## Load traj and select atoms"
   ]
  },
  {
   "cell_type": "code",
   "execution_count": 133,
   "id": "nuclear-terminology",
   "metadata": {},
   "outputs": [],
   "source": [
    "import MDAnalysis.transformations as trans\n",
    "\n",
    "def load_traj():\n",
    "    u = mda.Universe(structure, trajectory)\n",
    "    start, stop, step = u.trajectory.check_slice_indices(None, None, None)\n",
    "\n",
    "\n",
    "    frames = np.arange(start, stop, step_size)\n",
    "\n",
    "    n_frames = frames.size\n",
    "\n",
    "    transform = trans.unwrap(u.select_atoms(f\"backbone\"))\n",
    "\n",
    "    u.trajectory.add_transformations(transform)\n",
    "    frames_pd = pd.DataFrame(frames)\n",
    "    frames_pd.to_csv(\"frames.csv\")\n",
    "    return u, frames, n_frames\n",
    "\n",
    "u, frames, n_frames =  load_traj()"
   ]
  },
  {
   "cell_type": "code",
   "execution_count": 117,
   "id": "5a287ca6",
   "metadata": {},
   "outputs": [],
   "source": [
    "if peptide == \"WF1a\":\n",
    "    pep_dict = {1: (1, 20),\n",
    "                2: (21, 40),\n",
    "                3: (41, 60),\n",
    "                4: (61, 80)}\n",
    "elif peptide ==\"WF2\":\n",
    "    pep_dict = {1: (81, 105),\n",
    "                2: (106, 130),\n",
    "                3: (131, 155),\n",
    "                4: (156, 180)}\n",
    "else:\n",
    "    pep_dict = None"
   ]
  },
  {
   "attachments": {},
   "cell_type": "markdown",
   "id": "c43f5cfa",
   "metadata": {},
   "source": [
    "# Get reference structure"
   ]
  },
  {
   "cell_type": "code",
   "execution_count": 118,
   "id": "faefcae7",
   "metadata": {},
   "outputs": [
    {
     "name": "stdout",
     "output_type": "stream",
     "text": [
      "Starting analysis for peptide: WF2\n",
      "Using reference pep: 1, with start id: 81 and end_id: 105\n"
     ]
    },
    {
     "data": {
      "application/vnd.jupyter.widget-view+json": {
       "model_id": "334deab7c87b4ab795575206b0ed57d6",
       "version_major": 2,
       "version_minor": 0
      },
      "text/plain": [
       "  0%|          | 0/1001 [00:00<?, ?it/s]"
      ]
     },
     "metadata": {},
     "output_type": "display_data"
    }
   ],
   "source": [
    "def get_ref_pos(u, start_id, end_id, c_alpha_only=True):\n",
    "    \"\"\"\n",
    "    Rotates the reference peptide according to the first position and then returns\n",
    "    the mean structure positions\n",
    "    \"\"\"\n",
    "    print(f\"Starting analysis for peptide: {peptide}\")\n",
    "    print(f\"Using reference pep: {ref_pep}, with start id: {start_id} and end_id: {end_id}\")\n",
    "\n",
    "    # Chop peptide\n",
    "    start_id= pep_dict[ref_pep][0] + start_chop\n",
    "    end_id= pep_dict[ref_pep][1] - end_chop\n",
    "\n",
    "    if c_alpha_only:\n",
    "        backbone_ref = u.select_atoms(f\"name CA and resid {start_id}:{end_id}\")\n",
    "    else:\n",
    "        backbone_ref = u.select_atoms(f\"backbone and resid {start_id}:{end_id}\")\n",
    "    u.trajectory[0]\n",
    "    \n",
    "    first_pos_ref = backbone_ref.unwrap()\n",
    "\n",
    "    all_pos1 = np.full((n_frames, backbone_ref.n_atoms, 3), fill_value=np.NaN)\n",
    "\n",
    "    for frame_index, _ in tqdm(enumerate(u.trajectory[frames]), total=n_frames):\n",
    "        backbone_ref.unwrap(inplace=True)\n",
    "        backbone_ref.translate(-backbone_ref.center_of_geometry())\n",
    "        R, rmsd = rotation_matrix(backbone_ref.positions, first_pos_ref)\n",
    "        backbone_ref.rotate(R)\n",
    "        all_pos1[frame_index] = backbone_ref.positions\n",
    "\n",
    "    ref_pos = np.mean(all_pos1, axis=0)\n",
    "    return ref_pos\n",
    "\n",
    "u, frames, n_frames =  load_traj()\n",
    "ref_pos = get_ref_pos(u, pep_dict[1][0], pep_dict[1][1], c_alpha)\n"
   ]
  },
  {
   "cell_type": "code",
   "execution_count": 122,
   "id": "ca64d46f",
   "metadata": {},
   "outputs": [],
   "source": [
    "def calculate_distance(v1, v2):\n",
    "    x1, y1, z1 = v1[0], v1[1], v1[2]\n",
    "    x2, y2, z2 = v2[0], v2[1], v2[2]\n",
    "    distance = math.sqrt((x2 - x1)**2 + (y2 - y1)**2 + (z2 - z1)**2)\n",
    "    return distance"
   ]
  },
  {
   "cell_type": "code",
   "execution_count": 123,
   "id": "8d934f6f",
   "metadata": {},
   "outputs": [],
   "source": [
    "import MDAnalysis.transformations as trans\n",
    "\n",
    "def get_distance_individual_prot(u, start_id, end_id, c_alpha_only=True):\n",
    "\n",
    "    start_id = start_id + start_chop\n",
    "    end_id = end_id - end_chop \n",
    "    \n",
    "\n",
    "    if c_alpha_only:\n",
    "        backbone = u.select_atoms(f\"name CA and resid {start_id}:{end_id}\")\n",
    "        print(\"Using C alpha atoms only\")\n",
    "    else:\n",
    "        backbone = u.select_atoms(f\"backbone and resid {start_id}:{end_id}\")\n",
    "        print(\"Using backbone atoms\")\n",
    "\n",
    "    c_12_pos = u.select_atoms(f\"name CA and resid {start_id+12}\")\n",
    "\n",
    "    all_distances = np.full((n_frames, backbone.n_atoms), fill_value=np.NaN)\n",
    "\n",
    "    all_pos = np.full((n_frames, backbone.n_atoms * 3), fill_value=np.NaN)\n",
    "\n",
    "    # align to references structure (mean atom positions)\n",
    "    for frame_index, ts in tqdm(enumerate(u.trajectory[frames]), total=n_frames):\n",
    "        backbone.translate(-backbone.center_of_geometry())\n",
    "        R, rmsd = rotation_matrix(backbone.positions, ref_pos)\n",
    "        backbone.rotate(R)\n",
    "        all_pos[frame_index] = backbone.positions.ravel()\n",
    "\n",
    "        results = []\n",
    "        # loop through every carbon alpha position and calculate distances\n",
    "        for i in range(backbone.n_atoms):\n",
    "            result = calculate_distance(backbone.positions[i].ravel(), c_12_pos.positions.ravel())\n",
    "            results.append(result)\n",
    "        all_distances[frame_index] = results      \n",
    "    return all_pos, all_distances\n"
   ]
  },
  {
   "cell_type": "code",
   "execution_count": 135,
   "id": "0d4f16dc",
   "metadata": {},
   "outputs": [],
   "source": [
    "def align_individual_prot(u, start_id, end_id):\n",
    "    start_id = start_id + start_chop\n",
    "    end_id = end_id - end_chop\n",
    "    backbone = u.select_atoms(f\"name CA and resid {start_id}:{end_id}\")\n",
    "\n",
    "    all_pos = np.full((n_frames, backbone.n_atoms * 3), fill_value=np.NaN)\n",
    "    # align to references structure (mean atom positions)\n",
    "    for frame_index, ts in tqdm(enumerate(u.trajectory[frames]), total=n_frames):\n",
    "        # backbone.unwrap(inplace=True)\n",
    "        backbone.translate(-backbone.center_of_mass())\n",
    "        R, rmsd = rotation_matrix(backbone.positions, ref_pos)\n",
    "        backbone.rotate(R)\n",
    "        all_pos[frame_index] = backbone.positions.ravel()\n",
    "    return all_pos"
   ]
  },
  {
   "cell_type": "markdown",
   "id": "computational-story",
   "metadata": {},
   "source": [
    "## Now run umap on these positions"
   ]
  },
  {
   "cell_type": "code",
   "execution_count": 124,
   "id": "de1f9df8",
   "metadata": {},
   "outputs": [
    {
     "name": "stdout",
     "output_type": "stream",
     "text": [
      "Using C alpha atoms only\n"
     ]
    },
    {
     "data": {
      "application/vnd.jupyter.widget-view+json": {
       "model_id": "a708eebfa9614650b3723c6ab8db5ad6",
       "version_major": 2,
       "version_minor": 0
      },
      "text/plain": [
       "  0%|          | 0/1001 [00:00<?, ?it/s]"
      ]
     },
     "metadata": {},
     "output_type": "display_data"
    },
    {
     "name": "stdout",
     "output_type": "stream",
     "text": [
      "Using C alpha atoms only\n"
     ]
    },
    {
     "data": {
      "application/vnd.jupyter.widget-view+json": {
       "model_id": "99165d9d5abe4aec9ed38a59e1673051",
       "version_major": 2,
       "version_minor": 0
      },
      "text/plain": [
       "  0%|          | 0/1001 [00:00<?, ?it/s]"
      ]
     },
     "metadata": {},
     "output_type": "display_data"
    },
    {
     "name": "stdout",
     "output_type": "stream",
     "text": [
      "Using C alpha atoms only\n"
     ]
    },
    {
     "data": {
      "application/vnd.jupyter.widget-view+json": {
       "model_id": "ee7e72ea7d9947f5bfd179a6997243a0",
       "version_major": 2,
       "version_minor": 0
      },
      "text/plain": [
       "  0%|          | 0/1001 [00:00<?, ?it/s]"
      ]
     },
     "metadata": {},
     "output_type": "display_data"
    },
    {
     "name": "stdout",
     "output_type": "stream",
     "text": [
      "Using C alpha atoms only\n"
     ]
    },
    {
     "data": {
      "application/vnd.jupyter.widget-view+json": {
       "model_id": "1c706e76ca284a57995d6c6000932b22",
       "version_major": 2,
       "version_minor": 0
      },
      "text/plain": [
       "  0%|          | 0/1001 [00:00<?, ?it/s]"
      ]
     },
     "metadata": {},
     "output_type": "display_data"
    }
   ],
   "source": [
    "if peptide == \"WF2\":\n",
    "    wf2_1_pos, wf2_1_distances = get_distance_individual_prot(u, 81, 105)\n",
    "    wf2_2_pos, wf2_2_distances = get_distance_individual_prot(u, 106, 130)\n",
    "    wf2_3_pos, wf2_3_distances = get_distance_individual_prot(u, 131, 155)\n",
    "    wf2_4_pos, wf2_4_distances = get_distance_individual_prot(u, 156, 180)\n",
    "elif peptide == \"WF1\":\n",
    "    wf1a_1_pos, wf1a_1_distances = get_distance_individual_prot(u, 1, 20)\n",
    "    wf1a_2_pos, wf1a_2_distances = get_distance_individual_prot(u, 21, 40) \n",
    "    wf1a_3_pos, wf1a_3_distances = get_distance_individual_prot(u, 41, 60)\n",
    "    wf1a_4_pos, wf1a_4_distances = get_distance_individual_prot(u, 61, 80)\n",
    "else:\n",
    "    wf2_1, wf2_2, wf2_3, wf2_4 = None, None, None, None, None\n",
    "    print(\"Oops, no peptides selected\")"
   ]
  },
  {
   "cell_type": "code",
   "execution_count": 136,
   "id": "3f842038",
   "metadata": {},
   "outputs": [
    {
     "data": {
      "application/vnd.jupyter.widget-view+json": {
       "model_id": "d0cee28f7bcd4091b10e5ac7b7a2b9b4",
       "version_major": 2,
       "version_minor": 0
      },
      "text/plain": [
       "  0%|          | 0/1001 [00:00<?, ?it/s]"
      ]
     },
     "metadata": {},
     "output_type": "display_data"
    },
    {
     "data": {
      "application/vnd.jupyter.widget-view+json": {
       "model_id": "c08a784e4f8c4499822c71f9c1cdb589",
       "version_major": 2,
       "version_minor": 0
      },
      "text/plain": [
       "  0%|          | 0/1001 [00:00<?, ?it/s]"
      ]
     },
     "metadata": {},
     "output_type": "display_data"
    },
    {
     "data": {
      "application/vnd.jupyter.widget-view+json": {
       "model_id": "ca4ee8c8fc4a4135a1541519286d4304",
       "version_major": 2,
       "version_minor": 0
      },
      "text/plain": [
       "  0%|          | 0/1001 [00:00<?, ?it/s]"
      ]
     },
     "metadata": {},
     "output_type": "display_data"
    },
    {
     "data": {
      "application/vnd.jupyter.widget-view+json": {
       "model_id": "66265070a8d645fd914da65a56ea7466",
       "version_major": 2,
       "version_minor": 0
      },
      "text/plain": [
       "  0%|          | 0/1001 [00:00<?, ?it/s]"
      ]
     },
     "metadata": {},
     "output_type": "display_data"
    }
   ],
   "source": [
    "if peptide == \"WF2\":\n",
    "    wf2_1_pos = align_individual_prot(u, 81, 105)\n",
    "    wf2_2_pos = align_individual_prot(u, 106, 130)\n",
    "    wf2_3_pos = align_individual_prot(u, 131, 155)\n",
    "    wf2_4_pos = align_individual_prot(u, 156, 180)\n",
    "elif peptide == \"WF1\":\n",
    "    wf1a_1_pos = align_individual_prot(u, 1, 20)\n",
    "    wf1a_2_pos = align_individual_prot(u, 21, 40) \n",
    "    wf1a_3_pos = align_individual_prot(u, 41, 60)\n",
    "    wf1a_4_pos = align_individual_prot(u, 61, 80)\n",
    "else:\n",
    "    wf2_1, wf2_2, wf2_3, wf2_4 = None, None, None, None, None\n",
    "    print(\"Oops, no peptides selected\")"
   ]
  },
  {
   "cell_type": "code",
   "execution_count": 137,
   "id": "e8cea82a",
   "metadata": {},
   "outputs": [
    {
     "name": "stderr",
     "output_type": "stream",
     "text": [
      "/var/folders/ht/ptj5ptkj55s99wbfpdwxzy7h0000gn/T/ipykernel_19557/2854308611.py:10: RuntimeWarning: invalid value encountered in divide\n",
      "  normalized_distances = all_distances / max_values_distances\n"
     ]
    }
   ],
   "source": [
    "all_pos = np.vstack([wf2_1_pos, wf2_2_pos, wf2_3_pos, wf2_4_pos])\n",
    "\n",
    "all_distances = np.vstack([wf2_1_distances, wf2_2_distances, wf2_3_distances, wf2_4_distances])\n",
    "\n",
    "#normalise positions and distances\n",
    "max_values_pos = np.amax(all_pos, axis=0)\n",
    "normalized_pos = all_pos / max_values_pos\n",
    "\n",
    "max_values_distances = np.amax(all_distances, axis=0)\n",
    "normalized_distances = all_distances / max_values_distances\n",
    "normalized_distances = np.nan_to_num(normalized_distances, nan=0)\n",
    "\n",
    "\n"
   ]
  },
  {
   "cell_type": "code",
   "execution_count": 57,
   "id": "3d25b122",
   "metadata": {},
   "outputs": [
    {
     "name": "stderr",
     "output_type": "stream",
     "text": [
      "/Users/mirunaserian/opt/anaconda3/envs/py39_umap/lib/python3.9/site-packages/MDAnalysis/analysis/dihedrals.py:417: UserWarning: Some residues in selection do not have phi or psi selections\n",
      "  warnings.warn(\"Some residues in selection do not have \"\n",
      "/Users/mirunaserian/opt/anaconda3/envs/py39_umap/lib/python3.9/site-packages/MDAnalysis/analysis/dihedrals.py:513: DeprecationWarning: The `angle` attribute was deprecated in MDAnalysis 2.0.0 and will be removed in MDAnalysis 3.0.0. Please use `results.angles` instead\n",
      "  warnings.warn(wmsg, DeprecationWarning)\n",
      "/Users/mirunaserian/opt/anaconda3/envs/py39_umap/lib/python3.9/site-packages/MDAnalysis/analysis/dihedrals.py:407: UserWarning: Cannot determine phi and psi angles for the first or last residues\n",
      "  warnings.warn(\"Cannot determine phi and psi angles for the first \"\n"
     ]
    }
   ],
   "source": [
    "from MDAnalysis.analysis.dihedrals import Ramachandran\n",
    "\n",
    "\n",
    "def get_dihedrals_individual_prot(u, start_id, end_id, c_alpha_only=True):\n",
    "    start_id = start_id + start_chop\n",
    "    end_id = end_id - end_chop\n",
    "    \n",
    "    r = u.select_atoms(f\"resid {start_id}-{end_id}\")\n",
    "    R = Ramachandran(r).run(step=50)\n",
    "    angles = R.angles\n",
    "    phi = angles[:, :, 0]\n",
    "    psi = angles[:, :, 1]\n",
    "    combined_angles = np.dstack((phi, psi)).flatten()\n",
    "    combined_angles = np.reshape(combined_angles, (phi.shape[0], phi.shape[1]*2))\n",
    "    return combined_angles, phi, psi\n",
    "\n",
    "u, frames, n_frames =  load_traj()\n",
    "if peptide == \"WF2\":\n",
    "    wf2_1_angles, wf2_1_phi, wf2_1_psi  = get_dihedrals_individual_prot(u, 81, 105)\n",
    "    wf2_2_angles, wf2_2_phi, wf2_2_psi = get_dihedrals_individual_prot(u, 106, 130)\n",
    "    wf2_3_angles, wf2_3_phi, wf2_3_psi = get_dihedrals_individual_prot(u, 131, 155)\n",
    "    wf2_4_angles, wf2_4_phi, wf2_4_psi = get_dihedrals_individual_prot(u, 156, 180)"
   ]
  },
  {
   "cell_type": "code",
   "execution_count": 59,
   "id": "91d3707c",
   "metadata": {},
   "outputs": [
    {
     "data": {
      "text/plain": [
       "(4004, 46)"
      ]
     },
     "execution_count": 59,
     "metadata": {},
     "output_type": "execute_result"
    }
   ],
   "source": [
    "all_angles = np.vstack([wf2_1_angles, wf2_2_angles, wf2_3_angles, wf2_4_angles])\n",
    "\n",
    "max_values_angles = np.amax(all_angles, axis=0)\n",
    "normalized_angles = all_angles / max_values_angles\n",
    "# distances_dihedrals = np.hstack([normalized_distances, normalized_angles])\n",
    "# distances_dihedrals.shape\n",
    "normalized_angles.shape\n"
   ]
  },
  {
   "attachments": {},
   "cell_type": "markdown",
   "id": "ed9bc901",
   "metadata": {},
   "source": [
    "# UMAP Analysis\n"
   ]
  },
  {
   "attachments": {},
   "cell_type": "markdown",
   "id": "580c5ba4",
   "metadata": {},
   "source": [
    "### Decide on the best hyper parametes for clustering"
   ]
  },
  {
   "cell_type": "code",
   "execution_count": 142,
   "id": "4decb565",
   "metadata": {},
   "outputs": [
    {
     "data": {
      "image/png": "[encoded data removed]",
      "text/plain": [
       "<Figure size 1600x700 with 8 Axes>"
      ]
     },
     "metadata": {},
     "output_type": "display_data"
    }
   ],
   "source": [
    "\n",
    "fig, axs = plt.subplots(nrows=2, ncols=4, figsize=(16, 7), sharex=True, sharey=True)\n",
    "plt.subplots_adjust(hspace=0.2)\n",
    "fig.suptitle(f\"{peptide} - ref: {ref_pep}\", fontsize=15, y=0.95)\n",
    "\n",
    "\n",
    "# loop through tickers and axes\n",
    "for n_neigh, ax in zip([5, 8, 10, 12, 14, 16, 18, 20], axs.ravel()):\n",
    "    X_embedded = umap.UMAP(\n",
    "        n_neighbors=n_neigh,  # larger numbers forcus more on global properties (and increase computational effort required)\n",
    "        n_components=2,  # set the number of dimensions to reduce to\n",
    "        min_dist=0.0,    # must be 0.0 if points are to be clustered later with HDBSCAN\n",
    "        n_jobs=1,        # use all available cores\n",
    "        random_state=500\n",
    "        ).fit_transform(all_pos)\n",
    "    ax.set_title(f\"n_neighbours={n_neigh}\")\n",
    "    ax.scatter(X_embedded[:,0], X_embedded[:,1], s=0.2)\n",
    "plt.savefig(f\"{output_dir}/explore_n_neigh_{ref_pep}.png\", dpi=400, bbox_inches=\"tight\")\n"
   ]
  },
  {
   "cell_type": "code",
   "execution_count": 143,
   "id": "ff602817",
   "metadata": {},
   "outputs": [
    {
     "name": "stdout",
     "output_type": "stream",
     "text": [
      "UMAP(min_dist=0.0, n_jobs=1, n_neighbors=20, random_state=500, verbose=True)\n",
      "Tue Jun 27 15:32:05 2023 Construct fuzzy simplicial set\n",
      "Tue Jun 27 15:32:17 2023 Finding Nearest Neighbors\n",
      "Tue Jun 27 15:32:19 2023 Finished Nearest Neighbor Search\n",
      "Tue Jun 27 15:32:19 2023 Construct embedding\n"
     ]
    },
    {
     "data": {
      "application/vnd.jupyter.widget-view+json": {
       "model_id": "c2a17ed63b6440b187d6ab1f4ff8890f",
       "version_major": 2,
       "version_minor": 0
      },
      "text/plain": [
       "Epochs completed:   0%|            0/500 [00:00]"
      ]
     },
     "metadata": {},
     "output_type": "display_data"
    },
    {
     "name": "stdout",
     "output_type": "stream",
     "text": [
      "Tue Jun 27 15:32:29 2023 Finished embedding\n"
     ]
    },
    {
     "data": {
      "text/plain": [
       "<matplotlib.collections.PathCollection at 0x178b238e0>"
      ]
     },
     "execution_count": 143,
     "metadata": {},
     "output_type": "execute_result"
    },
    {
     "data": {
      "image/png": "[encoded data removed]",
      "text/plain": [
       "<Figure size 640x480 with 1 Axes>"
      ]
     },
     "metadata": {},
     "output_type": "display_data"
    }
   ],
   "source": [
    "\n",
    "X_embedded = umap.UMAP(\n",
    "    n_neighbors=20,  # larger numbers forcus more on global properties (and increase computational effort required)\n",
    "    n_components=2,  # set the number of dimensions to reduce to\n",
    "    min_dist=0.0,    # must be 0.0 if points are to be clustered later with HDBSCAN\n",
    "    verbose=True,\n",
    "    n_jobs=1,        # use all available cores\n",
    "    random_state=500\n",
    ").fit_transform(all_pos)\n",
    "\n",
    "plt.scatter(X_embedded[:,0], X_embedded[:,1])"
   ]
  },
  {
   "attachments": {},
   "cell_type": "markdown",
   "id": "479fa21e",
   "metadata": {},
   "source": [
    "### Continue analysis with the chosen parameter"
   ]
  },
  {
   "cell_type": "code",
   "execution_count": 151,
   "id": "0506b7a8",
   "metadata": {},
   "outputs": [
    {
     "data": {
      "image/png": "[encoded data removed]",
      "text/plain": [
       "<Figure size 1000x700 with 4 Axes>"
      ]
     },
     "metadata": {},
     "output_type": "display_data"
    }
   ],
   "source": [
    "\n",
    "fig, axs = plt.subplots(nrows=2, ncols=2, figsize=(10, 7), sharex=True, sharey=True)\n",
    "plt.subplots_adjust(hspace=0.2)\n",
    "fig.suptitle(f\"{peptide} - (ref: {ref_pep})\", fontsize=15, y=0.95)\n",
    "\n",
    "\n",
    "# loop through tickers and axes\n",
    "for pep, ax in zip([1, 2,3, 4], axs.ravel()):\n",
    "    n=n_frames\n",
    "    ax.scatter(X_embedded[(pep-1)*n:pep*n-1,0], X_embedded[(pep-1)*n:pep*n-1,1], c='blue', s=0.5)\n",
    "    ax.set_title(f\"pep{pep}\")\n",
    "plt.savefig(f\"{output_dir}/clusters_per_pep_ref_{ref_pep}.png\", dpi=400, bbox_inches=\"tight\")\n"
   ]
  },
  {
   "cell_type": "markdown",
   "id": "laden-compilation",
   "metadata": {},
   "source": [
    "## Cluster with HDBSCAN"
   ]
  },
  {
   "cell_type": "code",
   "execution_count": 152,
   "id": "julian-patch",
   "metadata": {},
   "outputs": [
    {
     "name": "stdout",
     "output_type": "stream",
     "text": [
      "Not in a cluster: 25 (0.62%)\n"
     ]
    },
    {
     "data": {
      "image/png": "[encoded data removed]",
      "text/plain": [
       "<Figure size 640x480 with 1 Axes>"
      ]
     },
     "metadata": {},
     "output_type": "display_data"
    }
   ],
   "source": [
    "import hdbscan\n",
    "\n",
    "\n",
    "hdb = hdbscan.HDBSCAN(\n",
    "    min_cluster_size=30,              # minimum number of points for a group to be considered a cluster\n",
    "    cluster_selection_epsilon=1,      # clusters closer than this distance apart will be merged\n",
    "    cluster_selection_method=\"leaf\"   # changes the way clusters are initialised. \"eom\" tends to lead to fewer clusters than \"leaf\"\n",
    ")\n",
    "\n",
    "hdb.fit(X_embedded)\n",
    "\n",
    "y_pred = hdb.fit_predict(X_embedded)\n",
    "\n",
    "print(f\"Not in a cluster: {sum(y_pred==-1)} ({100 * sum(y_pred==-1) / y_pred.size:.2f}%)\")\n",
    "\n",
    "plt.scatter(X_embedded[:,0], X_embedded[:,1],c=y_pred, cmap='Paired')\n",
    "\n",
    "for cluster in range(max(y_pred)+1):    \n",
    "    mean = np.mean(X_embedded[y_pred==cluster], axis=0)\n",
    "    plt.text(\n",
    "        mean[0], mean[1],\n",
    "        cluster,\n",
    "        fontsize=13\n",
    "    )\n",
    "plt.savefig(f\"{output_dir}/clusters_{peptide}_ref_{ref_pep}.png\", dpi=400, bbox_inches=\"tight\")\n",
    "cluster_labels = y_pred"
   ]
  },
  {
   "cell_type": "code",
   "execution_count": 147,
   "id": "d9473be4",
   "metadata": {},
   "outputs": [
    {
     "data": {
      "text/plain": [
       "(17,)"
      ]
     },
     "execution_count": 147,
     "metadata": {},
     "output_type": "execute_result"
    }
   ],
   "source": [
    "unique_cluster_labels = np.unique(cluster_labels)   \n",
    "unique_cluster_labels.shape"
   ]
  },
  {
   "cell_type": "markdown",
   "id": "coral-aurora",
   "metadata": {},
   "source": [
    "## First identify representative frame for each cluster"
   ]
  },
  {
   "cell_type": "code",
   "execution_count": 28,
   "id": "9c272237",
   "metadata": {},
   "outputs": [
    {
     "ename": "NameError",
     "evalue": "name 'all_distances' is not defined",
     "output_type": "error",
     "traceback": [
      "\u001b[0;31m---------------------------------------------------------------------------\u001b[0m",
      "\u001b[0;31mNameError\u001b[0m                                 Traceback (most recent call last)",
      "Cell \u001b[0;32mIn[28], line 11\u001b[0m\n\u001b[1;32m      9\u001b[0m \u001b[39mfor\u001b[39;00m cluster, ax \u001b[39min\u001b[39;00m \u001b[39mzip\u001b[39m(unique_cluster_labels, axs\u001b[39m.\u001b[39mravel()):\n\u001b[1;32m     10\u001b[0m     frames\u001b[39m=\u001b[39m np\u001b[39m.\u001b[39mwhere(cluster_labels\u001b[39m==\u001b[39mcluster)[\u001b[39m0\u001b[39m]\n\u001b[0;32m---> 11\u001b[0m     distances_cluster \u001b[39m=\u001b[39m all_distances[frames]\n\u001b[1;32m     12\u001b[0m     column_averages \u001b[39m=\u001b[39m np\u001b[39m.\u001b[39mmean(distances_cluster, axis\u001b[39m=\u001b[39m\u001b[39m0\u001b[39m)\n\u001b[1;32m     13\u001b[0m     ax\u001b[39m.\u001b[39mbar(\u001b[39mrange\u001b[39m(\u001b[39m0\u001b[39m,\u001b[39m25\u001b[39m), column_averages)\n",
      "\u001b[0;31mNameError\u001b[0m: name 'all_distances' is not defined"
     ]
    },
    {
     "data": {
      "image/png": "[encoded data removed]",
      "text/plain": [
       "<Figure size 2000x1000 with 18 Axes>"
      ]
     },
     "metadata": {},
     "output_type": "display_data"
    }
   ],
   "source": [
    "# get unique clusters  \n",
    "unique_cluster_labels = np.unique(cluster_labels)   \n",
    "\n",
    "fig, axs = plt.subplots(nrows=3, ncols=6, figsize=(20, 10), sharex=True, sharey=True)\n",
    "plt.subplots_adjust(hspace=0.2, wspace=0.1)\n",
    "\n",
    "\n",
    "# loop through tickers and axes\n",
    "for cluster, ax in zip(unique_cluster_labels, axs.ravel()):\n",
    "    frames= np.where(cluster_labels==cluster)[0]\n",
    "    distances_cluster = all_distances[frames]\n",
    "    column_averages = np.mean(distances_cluster, axis=0)\n",
    "    ax.bar(range(0,25), column_averages)\n",
    "    ax.set_title(f\"cluster {cluster}\")\n",
    "\n",
    "plt.savefig(f\"{output_dir}/clusters_mean_{peptide}_ref_{ref_pep}.png\", dpi=400, bbox_inches=\"tight\")\n",
    "\n"
   ]
  },
  {
   "attachments": {},
   "cell_type": "markdown",
   "id": "39a350b2",
   "metadata": {},
   "source": [
    "## Compare structures in each cluster"
   ]
  },
  {
   "cell_type": "code",
   "execution_count": 172,
   "id": "67600ee7",
   "metadata": {},
   "outputs": [],
   "source": [
    "n_frames_orig=n_frames\n",
    "\n",
    "output_dir_rmsd =f\"{output_dir}/rmsd\"\n",
    "Path(output_dir_rmsd).mkdir(parents=True, exist_ok=True)\n",
    "\n",
    "def compare_struct_in_cluster_rmsd():\n",
    "    n=n_frames_orig\n",
    "    \n",
    "    cluster_dict = {c: [] for c in cluster_labels}\n",
    "    for pep, ids in pep_dict.items():\n",
    "\n",
    "        start_id, end_id = ids\n",
    "        backbone = u.select_atoms(f\"name CA and resid {start_id}:{end_id}\")\n",
    "        cluster_labels_pep = cluster_labels[(pep-1)*n:pep*n]\n",
    "\n",
    "        for cluster in tqdm(np.unique(cluster_labels_pep)):\n",
    "            \n",
    "            # frames at which cluster is found\n",
    "            frames = np.where(cluster_labels_pep==cluster)[0]\n",
    "            \n",
    "            \n",
    "            # align all and get positions\n",
    "            for frame_index, ts in enumerate(u.trajectory[frames]):\n",
    "            \n",
    "                backbone.translate(-backbone.center_of_geometry())\n",
    "                R, rmsd = rotation_matrix(backbone.positions, ref_pos)\n",
    "                backbone.rotate(R)\n",
    "                cluster_dict[cluster].append(rmsd)\n",
    "\n",
    "    for cluster, rmsd_vals in cluster_dict.items():\n",
    "        plt.figure()\n",
    "        plt.plot(rmsd_vals)\n",
    "        plt.title(f'cluster {cluster}')\n",
    "\n",
    "        plt.savefig(f\"{output_dir_rmsd}/rmsd_cluster_{cluster}.png\", dpi=400, bbox_inches=\"tight\")\n",
    "        plt.close()\n",
    "    return cluster_dict"
   ]
  },
  {
   "cell_type": "code",
   "execution_count": 173,
   "id": "8efda086",
   "metadata": {},
   "outputs": [
    {
     "data": {
      "application/vnd.jupyter.widget-view+json": {
       "model_id": "f680e806ded347688ca67e8148e3ac84",
       "version_major": 2,
       "version_minor": 0
      },
      "text/plain": [
       "  0%|          | 0/4 [00:00<?, ?it/s]"
      ]
     },
     "metadata": {},
     "output_type": "display_data"
    },
    {
     "data": {
      "application/vnd.jupyter.widget-view+json": {
       "model_id": "752f719a1da441be8148fd3da5abcccb",
       "version_major": 2,
       "version_minor": 0
      },
      "text/plain": [
       "  0%|          | 0/6 [00:00<?, ?it/s]"
      ]
     },
     "metadata": {},
     "output_type": "display_data"
    },
    {
     "data": {
      "application/vnd.jupyter.widget-view+json": {
       "model_id": "edb93785c28a4020b3faa153489d2aaf",
       "version_major": 2,
       "version_minor": 0
      },
      "text/plain": [
       "  0%|          | 0/4 [00:00<?, ?it/s]"
      ]
     },
     "metadata": {},
     "output_type": "display_data"
    },
    {
     "data": {
      "application/vnd.jupyter.widget-view+json": {
       "model_id": "e83bc6343fba4406a2d75ddbf2e35ace",
       "version_major": 2,
       "version_minor": 0
      },
      "text/plain": [
       "  0%|          | 0/5 [00:00<?, ?it/s]"
      ]
     },
     "metadata": {},
     "output_type": "display_data"
    }
   ],
   "source": [
    "rmsd_cluster = compare_struct_in_cluster_rmsd()"
   ]
  },
  {
   "cell_type": "code",
   "execution_count": 291,
   "id": "0b88492c",
   "metadata": {},
   "outputs": [],
   "source": [
    "n_frames_orig=n_frames\n",
    "\n",
    "output_dir_rmsd =f\"{output_dir}/rgyr\"\n",
    "Path(output_dir_rmsd).mkdir(parents=True, exist_ok=True)\n",
    "\n",
    "def compare_struct_in_cluster_rgyr():\n",
    "    n=n_frames_orig\n",
    "    \n",
    "    cluster_dict = {c: [] for c in cluster_labels}\n",
    "    for pep, ids in pep_dict.items():\n",
    "\n",
    "        start_id, end_id = ids\n",
    "        backbone = u.select_atoms(f\"name CA and resid {start_id}:{end_id}\")\n",
    "        cluster_labels_pep = cluster_labels[(pep-1)*n_frames:pep*n_frames]\n",
    "\n",
    "        for cluster in tqdm(np.unique(cluster_labels_pep)):\n",
    "            \n",
    "            # frames at which cluster is found\n",
    "            frames = np.where(cluster_labels_pep==cluster)[0]\n",
    "            \n",
    "            \n",
    "            # align all and get positions\n",
    "            for frame_index, ts in enumerate(u.trajectory[frames]):\n",
    "            \n",
    "                backbone.translate(-backbone.center_of_geometry())\n",
    "                R, rmsd = rotation_matrix(backbone.positions, ref_pos)\n",
    "                backbone.rotate(R)\n",
    "\n",
    "                cluster_dict[cluster].append(backbone.radius_of_gyration())\n",
    "\n",
    "    for cluster, rgyr_vals in cluster_dict.items():\n",
    "        plt.figure()\n",
    "        plt.plot(rgyr_vals)\n",
    "        plt.title(f'Rgyr cluster {cluster}')\n",
    "        plt.savefig(f\"{output_dir_rmsd}/rgyr_cluster_{cluster}.png\", dpi=400, bbox_inches=\"tight\")\n",
    "        plt.close()\n",
    "    return cluster_dict"
   ]
  },
  {
   "cell_type": "code",
   "execution_count": 292,
   "id": "3fd08bb5",
   "metadata": {},
   "outputs": [
    {
     "data": {
      "application/vnd.jupyter.widget-view+json": {
       "model_id": "7c8513f13b604b37a4e0ea205d829f83",
       "version_major": 2,
       "version_minor": 0
      },
      "text/plain": [
       "  0%|          | 0/4 [00:00<?, ?it/s]"
      ]
     },
     "metadata": {},
     "output_type": "display_data"
    },
    {
     "data": {
      "application/vnd.jupyter.widget-view+json": {
       "model_id": "915be7da3ef845949076c0c02e41284e",
       "version_major": 2,
       "version_minor": 0
      },
      "text/plain": [
       "  0%|          | 0/5 [00:00<?, ?it/s]"
      ]
     },
     "metadata": {},
     "output_type": "display_data"
    },
    {
     "data": {
      "application/vnd.jupyter.widget-view+json": {
       "model_id": "5625d6543f6d43f397a54424aa3da680",
       "version_major": 2,
       "version_minor": 0
      },
      "text/plain": [
       "  0%|          | 0/4 [00:00<?, ?it/s]"
      ]
     },
     "metadata": {},
     "output_type": "display_data"
    },
    {
     "data": {
      "application/vnd.jupyter.widget-view+json": {
       "model_id": "bdb2fe10fcb04c5d84139fe09f742f75",
       "version_major": 2,
       "version_minor": 0
      },
      "text/plain": [
       "  0%|          | 0/6 [00:00<?, ?it/s]"
      ]
     },
     "metadata": {},
     "output_type": "display_data"
    }
   ],
   "source": [
    "rmsd_cluster = compare_struct_in_cluster_rgyr()"
   ]
  },
  {
   "attachments": {},
   "cell_type": "markdown",
   "id": "bd711f7d",
   "metadata": {},
   "source": [
    "# Save Cluster data"
   ]
  },
  {
   "cell_type": "code",
   "execution_count": 65,
   "id": "afed7c97",
   "metadata": {},
   "outputs": [
    {
     "data": {
      "text/html": [
       "<div>\n",
       "<style scoped>\n",
       "    .dataframe tbody tr th:only-of-type {\n",
       "        vertical-align: middle;\n",
       "    }\n",
       "\n",
       "    .dataframe tbody tr th {\n",
       "        vertical-align: top;\n",
       "    }\n",
       "\n",
       "    .dataframe thead th {\n",
       "        text-align: right;\n",
       "    }\n",
       "</style>\n",
       "<table border=\"1\" class=\"dataframe\">\n",
       "  <thead>\n",
       "    <tr style=\"text-align: right;\">\n",
       "      <th></th>\n",
       "      <th>pep5</th>\n",
       "      <th>pep6</th>\n",
       "      <th>pep7</th>\n",
       "      <th>pep8</th>\n",
       "    </tr>\n",
       "  </thead>\n",
       "  <tbody>\n",
       "    <tr>\n",
       "      <th>0</th>\n",
       "      <td>20</td>\n",
       "      <td>20</td>\n",
       "      <td>10</td>\n",
       "      <td>20</td>\n",
       "    </tr>\n",
       "    <tr>\n",
       "      <th>1</th>\n",
       "      <td>20</td>\n",
       "      <td>20</td>\n",
       "      <td>10</td>\n",
       "      <td>20</td>\n",
       "    </tr>\n",
       "    <tr>\n",
       "      <th>2</th>\n",
       "      <td>20</td>\n",
       "      <td>20</td>\n",
       "      <td>10</td>\n",
       "      <td>20</td>\n",
       "    </tr>\n",
       "    <tr>\n",
       "      <th>3</th>\n",
       "      <td>20</td>\n",
       "      <td>20</td>\n",
       "      <td>10</td>\n",
       "      <td>20</td>\n",
       "    </tr>\n",
       "    <tr>\n",
       "      <th>4</th>\n",
       "      <td>20</td>\n",
       "      <td>20</td>\n",
       "      <td>10</td>\n",
       "      <td>20</td>\n",
       "    </tr>\n",
       "    <tr>\n",
       "      <th>...</th>\n",
       "      <td>...</td>\n",
       "      <td>...</td>\n",
       "      <td>...</td>\n",
       "      <td>...</td>\n",
       "    </tr>\n",
       "    <tr>\n",
       "      <th>996</th>\n",
       "      <td>5</td>\n",
       "      <td>13</td>\n",
       "      <td>9</td>\n",
       "      <td>3</td>\n",
       "    </tr>\n",
       "    <tr>\n",
       "      <th>997</th>\n",
       "      <td>5</td>\n",
       "      <td>13</td>\n",
       "      <td>9</td>\n",
       "      <td>3</td>\n",
       "    </tr>\n",
       "    <tr>\n",
       "      <th>998</th>\n",
       "      <td>5</td>\n",
       "      <td>13</td>\n",
       "      <td>1</td>\n",
       "      <td>3</td>\n",
       "    </tr>\n",
       "    <tr>\n",
       "      <th>999</th>\n",
       "      <td>5</td>\n",
       "      <td>13</td>\n",
       "      <td>1</td>\n",
       "      <td>3</td>\n",
       "    </tr>\n",
       "    <tr>\n",
       "      <th>1000</th>\n",
       "      <td>5</td>\n",
       "      <td>13</td>\n",
       "      <td>9</td>\n",
       "      <td>3</td>\n",
       "    </tr>\n",
       "  </tbody>\n",
       "</table>\n",
       "<p>1001 rows × 4 columns</p>\n",
       "</div>"
      ],
      "text/plain": [
       "      pep5  pep6  pep7  pep8\n",
       "0       20    20    10    20\n",
       "1       20    20    10    20\n",
       "2       20    20    10    20\n",
       "3       20    20    10    20\n",
       "4       20    20    10    20\n",
       "...    ...   ...   ...   ...\n",
       "996      5    13     9     3\n",
       "997      5    13     9     3\n",
       "998      5    13     1     3\n",
       "999      5    13     1     3\n",
       "1000     5    13     9     3\n",
       "\n",
       "[1001 rows x 4 columns]"
      ]
     },
     "execution_count": 65,
     "metadata": {},
     "output_type": "execute_result"
    }
   ],
   "source": [
    "import pandas as pd \n",
    "\n",
    "cluster_labels_pep1 = cluster_labels[:n_frames]\n",
    "cluster_labels_pep2 = cluster_labels[n_frames:2*n_frames]\n",
    "cluster_labels_pep3 = cluster_labels[2*n_frames:3*n_frames]\n",
    "cluster_labels_pep4 = cluster_labels[3*n_frames:4*n_frames]\n",
    "cluster_labels_time = pd.DataFrame([cluster_labels_pep1 , cluster_labels_pep2, cluster_labels_pep3, cluster_labels_pep4])\n",
    "cluster_labels_time = cluster_labels_time.T\n",
    "cluster_labels_time.columns = [\"pep5\", \"pep6\", \"pep7\", \"pep8\"]\n",
    "cluster_labels_time.to_csv(f\"{output_dir}/cluster_labels.csv\")\n",
    "cluster_labels_time\n"
   ]
  },
  {
   "cell_type": "code",
   "execution_count": 66,
   "id": "07d4b332",
   "metadata": {},
   "outputs": [
    {
     "data": {
      "text/html": [
       "<div>\n",
       "<style scoped>\n",
       "    .dataframe tbody tr th:only-of-type {\n",
       "        vertical-align: middle;\n",
       "    }\n",
       "\n",
       "    .dataframe tbody tr th {\n",
       "        vertical-align: top;\n",
       "    }\n",
       "\n",
       "    .dataframe thead th {\n",
       "        text-align: right;\n",
       "    }\n",
       "</style>\n",
       "<table border=\"1\" class=\"dataframe\">\n",
       "  <thead>\n",
       "    <tr style=\"text-align: right;\">\n",
       "      <th></th>\n",
       "      <th>0</th>\n",
       "    </tr>\n",
       "  </thead>\n",
       "  <tbody>\n",
       "    <tr>\n",
       "      <th>0</th>\n",
       "      <td>0</td>\n",
       "    </tr>\n",
       "    <tr>\n",
       "      <th>1</th>\n",
       "      <td>50</td>\n",
       "    </tr>\n",
       "    <tr>\n",
       "      <th>2</th>\n",
       "      <td>100</td>\n",
       "    </tr>\n",
       "    <tr>\n",
       "      <th>3</th>\n",
       "      <td>150</td>\n",
       "    </tr>\n",
       "    <tr>\n",
       "      <th>4</th>\n",
       "      <td>200</td>\n",
       "    </tr>\n",
       "    <tr>\n",
       "      <th>...</th>\n",
       "      <td>...</td>\n",
       "    </tr>\n",
       "    <tr>\n",
       "      <th>996</th>\n",
       "      <td>49800</td>\n",
       "    </tr>\n",
       "    <tr>\n",
       "      <th>997</th>\n",
       "      <td>49850</td>\n",
       "    </tr>\n",
       "    <tr>\n",
       "      <th>998</th>\n",
       "      <td>49900</td>\n",
       "    </tr>\n",
       "    <tr>\n",
       "      <th>999</th>\n",
       "      <td>49950</td>\n",
       "    </tr>\n",
       "    <tr>\n",
       "      <th>1000</th>\n",
       "      <td>50000</td>\n",
       "    </tr>\n",
       "  </tbody>\n",
       "</table>\n",
       "<p>1001 rows × 1 columns</p>\n",
       "</div>"
      ],
      "text/plain": [
       "          0\n",
       "0         0\n",
       "1        50\n",
       "2       100\n",
       "3       150\n",
       "4       200\n",
       "...     ...\n",
       "996   49800\n",
       "997   49850\n",
       "998   49900\n",
       "999   49950\n",
       "1000  50000\n",
       "\n",
       "[1001 rows x 1 columns]"
      ]
     },
     "execution_count": 66,
     "metadata": {},
     "output_type": "execute_result"
    }
   ],
   "source": [
    "frames_from_csv = pd.read_csv(\"frames.csv\")\n",
    "frames_from_csv = frames_from_csv.drop(columns=[\"Unnamed: 0\"])\n",
    "frames_from_csv"
   ]
  },
  {
   "cell_type": "code",
   "execution_count": 67,
   "id": "36d4e3ce",
   "metadata": {},
   "outputs": [
    {
     "data": {
      "text/html": [
       "<div>\n",
       "<style scoped>\n",
       "    .dataframe tbody tr th:only-of-type {\n",
       "        vertical-align: middle;\n",
       "    }\n",
       "\n",
       "    .dataframe tbody tr th {\n",
       "        vertical-align: top;\n",
       "    }\n",
       "\n",
       "    .dataframe thead th {\n",
       "        text-align: right;\n",
       "    }\n",
       "</style>\n",
       "<table border=\"1\" class=\"dataframe\">\n",
       "  <thead>\n",
       "    <tr style=\"text-align: right;\">\n",
       "      <th></th>\n",
       "      <th>Timeframe</th>\n",
       "      <th>pep5</th>\n",
       "      <th>pep6</th>\n",
       "      <th>pep7</th>\n",
       "      <th>pep8</th>\n",
       "    </tr>\n",
       "  </thead>\n",
       "  <tbody>\n",
       "    <tr>\n",
       "      <th>0</th>\n",
       "      <td>0</td>\n",
       "      <td>20</td>\n",
       "      <td>20</td>\n",
       "      <td>10</td>\n",
       "      <td>20</td>\n",
       "    </tr>\n",
       "    <tr>\n",
       "      <th>1</th>\n",
       "      <td>50</td>\n",
       "      <td>20</td>\n",
       "      <td>20</td>\n",
       "      <td>10</td>\n",
       "      <td>20</td>\n",
       "    </tr>\n",
       "    <tr>\n",
       "      <th>2</th>\n",
       "      <td>100</td>\n",
       "      <td>20</td>\n",
       "      <td>20</td>\n",
       "      <td>10</td>\n",
       "      <td>20</td>\n",
       "    </tr>\n",
       "    <tr>\n",
       "      <th>3</th>\n",
       "      <td>150</td>\n",
       "      <td>20</td>\n",
       "      <td>20</td>\n",
       "      <td>10</td>\n",
       "      <td>20</td>\n",
       "    </tr>\n",
       "    <tr>\n",
       "      <th>4</th>\n",
       "      <td>200</td>\n",
       "      <td>20</td>\n",
       "      <td>20</td>\n",
       "      <td>10</td>\n",
       "      <td>20</td>\n",
       "    </tr>\n",
       "    <tr>\n",
       "      <th>...</th>\n",
       "      <td>...</td>\n",
       "      <td>...</td>\n",
       "      <td>...</td>\n",
       "      <td>...</td>\n",
       "      <td>...</td>\n",
       "    </tr>\n",
       "    <tr>\n",
       "      <th>996</th>\n",
       "      <td>49800</td>\n",
       "      <td>5</td>\n",
       "      <td>13</td>\n",
       "      <td>9</td>\n",
       "      <td>3</td>\n",
       "    </tr>\n",
       "    <tr>\n",
       "      <th>997</th>\n",
       "      <td>49850</td>\n",
       "      <td>5</td>\n",
       "      <td>13</td>\n",
       "      <td>9</td>\n",
       "      <td>3</td>\n",
       "    </tr>\n",
       "    <tr>\n",
       "      <th>998</th>\n",
       "      <td>49900</td>\n",
       "      <td>5</td>\n",
       "      <td>13</td>\n",
       "      <td>1</td>\n",
       "      <td>3</td>\n",
       "    </tr>\n",
       "    <tr>\n",
       "      <th>999</th>\n",
       "      <td>49950</td>\n",
       "      <td>5</td>\n",
       "      <td>13</td>\n",
       "      <td>1</td>\n",
       "      <td>3</td>\n",
       "    </tr>\n",
       "    <tr>\n",
       "      <th>1000</th>\n",
       "      <td>50000</td>\n",
       "      <td>5</td>\n",
       "      <td>13</td>\n",
       "      <td>9</td>\n",
       "      <td>3</td>\n",
       "    </tr>\n",
       "  </tbody>\n",
       "</table>\n",
       "<p>1001 rows × 5 columns</p>\n",
       "</div>"
      ],
      "text/plain": [
       "      Timeframe  pep5  pep6  pep7  pep8\n",
       "0             0    20    20    10    20\n",
       "1            50    20    20    10    20\n",
       "2           100    20    20    10    20\n",
       "3           150    20    20    10    20\n",
       "4           200    20    20    10    20\n",
       "...         ...   ...   ...   ...   ...\n",
       "996       49800     5    13     9     3\n",
       "997       49850     5    13     9     3\n",
       "998       49900     5    13     1     3\n",
       "999       49950     5    13     1     3\n",
       "1000      50000     5    13     9     3\n",
       "\n",
       "[1001 rows x 5 columns]"
      ]
     },
     "execution_count": 67,
     "metadata": {},
     "output_type": "execute_result"
    }
   ],
   "source": [
    "cluster_frames_saved = frames_from_csv.join(cluster_labels_time)\n",
    "cluster_frames_saved = cluster_frames_saved.rename(columns={\"0\":\"Timeframe\"})\n",
    "cluster_frames_saved"
   ]
  },
  {
   "cell_type": "code",
   "execution_count": 583,
   "id": "a8b77800",
   "metadata": {},
   "outputs": [
    {
     "data": {
      "image/png": "[encoded data removed]",
      "text/plain": [
       "<Figure size 640x480 with 1 Axes>"
      ]
     },
     "metadata": {},
     "output_type": "display_data"
    }
   ],
   "source": [
    "frames =  np.where(cluster_labels==9)[0]\n",
    "positions_cluster = all_distances[frames]\n",
    "# plt.scatter()\n",
    "for i in  positions_cluster:\n",
    "    plt.plot(i)"
   ]
  },
  {
   "attachments": {},
   "cell_type": "markdown",
   "id": "71b57cea",
   "metadata": {},
   "source": [
    "# Write PDBs"
   ]
  },
  {
   "cell_type": "code",
   "execution_count": 153,
   "id": "c2bbc71a",
   "metadata": {},
   "outputs": [
    {
     "name": "stdout",
     "output_type": "stream",
     "text": [
      "/Users/mirunaserian/Documents/WF_synergy/umap/WF2_step50_positions\n"
     ]
    }
   ],
   "source": [
    "from MDAnalysis.analysis.rms import rmsd as rmsd_mdanalysis\n",
    "print(output_dir)\n",
    "output_dir_pdb =f\"{output_dir}/pdbs\"\n",
    "Path(output_dir_pdb).mkdir(parents=True, exist_ok=True)\n",
    "\n",
    "\n",
    "\n",
    "def write_pdb_per_pep(pep, frames):\n",
    "    start_id, end_id = pep_dict[pep]\n",
    "\n",
    "    backbone = u.select_atoms(f\"resid {start_id}:{end_id}\")\n",
    "\n",
    "    cluster_labels_pep = cluster_labels[(pep-1)*n_frames:pep*n_frames]\n",
    "    list_peptide, list_cluster, list_first_frame, list_cluster_frames, list_the_frame = [], [], [], [], []\n",
    "    for cluster in tqdm(np.unique(cluster_labels_pep)):\n",
    "        list_peptide.append(pep)\n",
    "        \n",
    "        # ref structures will be first structure in a cluster \n",
    "        first_frame_index = np.where(cluster_labels_pep==cluster)[0][0]\n",
    "        \n",
    "        first_frame = frames[first_frame_index]\n",
    "        list_first_frame.append(first_frame)\n",
    "\n",
    "\n",
    "        for frame_index in u.trajectory[[first_frame]]:\n",
    "            ref_pos = backbone.unwrap()\n",
    "\n",
    "\n",
    "        # frames at which cluster is found\n",
    "        frames_indexes = np.where(cluster_labels_pep==cluster)[0]\n",
    "        frames_cluster = frames[frames_indexes]\n",
    "        list_cluster_frames.append(frames_cluster)\n",
    "        list_cluster.append(cluster)\n",
    "\n",
    "\n",
    "        cluster_pos = np.full((len(frames_cluster), backbone.n_atoms, 3), fill_value=np.NaN)\n",
    "        \n",
    "        # align all and get positions\n",
    "        for frame_index, ts in enumerate(u.trajectory[frames_cluster]):\n",
    "\n",
    "            backbone.translate(-backbone.center_of_geometry())\n",
    "            R, rmsd = rotation_matrix(backbone.positions, ref_pos)\n",
    "            backbone.rotate(R)\n",
    "            cluster_pos[frame_index] = backbone.positions\n",
    "\n",
    "        # find mean position\n",
    "        mean = np.mean(cluster_pos, axis=0)\n",
    "        \n",
    "        # calculate rmsds to mean position\n",
    "        rmsd = np.mean(np.sum((np.square(cluster_pos - mean)), axis=2), axis=1)\n",
    "        # rmsd = rmsd_mdanalysis(cluster_pos, mean)\n",
    "\n",
    "        # find frame at which rmsd to mean position is smallest\n",
    "        rep_frame_index = np.where(rmsd==min(rmsd))[0][0]\n",
    "\n",
    "\n",
    "        rep_frame = frames_cluster[rep_frame_index]\n",
    "        list_the_frame.append(rep_frame)\n",
    "        \n",
    "        # load coordinates from representative frame\n",
    "        for frame_index, ts in enumerate(u.trajectory[[rep_frame]]):\n",
    "            # translate and rotate aroms\n",
    "            atoms = backbone\n",
    "            atoms.unwrap(inplace=True)\n",
    "            atoms.translate(-backbone.center_of_mass())\n",
    "\n",
    "            R, rmsd = rotation_matrix(backbone.positions, ref_pos)\n",
    "            atoms.rotate(R)\n",
    "\n",
    "            # write pdb\n",
    "            atoms.write(f\"{output_dir_pdb}/cluster_{cluster}_pep{pep}.pdb\")\n",
    "            print(\"Wrote pdb\")\n",
    "    return (list_peptide, list_cluster, list_first_frame, list_cluster_frames, list_the_frame)"
   ]
  },
  {
   "cell_type": "code",
   "execution_count": 154,
   "id": "34c7bb40",
   "metadata": {},
   "outputs": [
    {
     "data": {
      "application/vnd.jupyter.widget-view+json": {
       "model_id": "02c7ceb4e88a42138c4299bd63c918cb",
       "version_major": 2,
       "version_minor": 0
      },
      "text/plain": [
       "  0%|          | 0/5 [00:00<?, ?it/s]"
      ]
     },
     "metadata": {},
     "output_type": "display_data"
    },
    {
     "name": "stderr",
     "output_type": "stream",
     "text": [
      "/Users/mirunaserian/opt/anaconda3/envs/py39_umap/lib/python3.9/site-packages/MDAnalysis/coordinates/PDB.py:1129: UserWarning: Found no information for attr: 'altLocs' Using default value of ' '\n",
      "  warnings.warn(\"Found no information for attr: '{}'\"\n",
      "/Users/mirunaserian/opt/anaconda3/envs/py39_umap/lib/python3.9/site-packages/MDAnalysis/coordinates/PDB.py:1129: UserWarning: Found no information for attr: 'icodes' Using default value of ' '\n",
      "  warnings.warn(\"Found no information for attr: '{}'\"\n",
      "/Users/mirunaserian/opt/anaconda3/envs/py39_umap/lib/python3.9/site-packages/MDAnalysis/coordinates/PDB.py:1129: UserWarning: Found no information for attr: 'chainIDs' Using default value of ''\n",
      "  warnings.warn(\"Found no information for attr: '{}'\"\n",
      "/Users/mirunaserian/opt/anaconda3/envs/py39_umap/lib/python3.9/site-packages/MDAnalysis/coordinates/PDB.py:1129: UserWarning: Found no information for attr: 'occupancies' Using default value of '1.0'\n",
      "  warnings.warn(\"Found no information for attr: '{}'\"\n",
      "/Users/mirunaserian/opt/anaconda3/envs/py39_umap/lib/python3.9/site-packages/MDAnalysis/coordinates/PDB.py:1129: UserWarning: Found no information for attr: 'tempfactors' Using default value of '0.0'\n",
      "  warnings.warn(\"Found no information for attr: '{}'\"\n",
      "/Users/mirunaserian/opt/anaconda3/envs/py39_umap/lib/python3.9/site-packages/MDAnalysis/coordinates/PDB.py:1129: UserWarning: Found no information for attr: 'record_types' Using default value of 'ATOM'\n",
      "  warnings.warn(\"Found no information for attr: '{}'\"\n",
      "/Users/mirunaserian/opt/anaconda3/envs/py39_umap/lib/python3.9/site-packages/MDAnalysis/coordinates/PDB.py:1129: UserWarning: Found no information for attr: 'formalcharges' Using default value of '0'\n",
      "  warnings.warn(\"Found no information for attr: '{}'\"\n",
      "/Users/mirunaserian/opt/anaconda3/envs/py39_umap/lib/python3.9/site-packages/MDAnalysis/coordinates/PDB.py:1176: UserWarning: Found missing chainIDs. Corresponding atoms will use value of 'X'\n",
      "  warnings.warn(\"Found missing chainIDs.\"\n"
     ]
    },
    {
     "name": "stdout",
     "output_type": "stream",
     "text": [
      "Wrote pdb\n",
      "Wrote pdb\n",
      "Wrote pdb\n",
      "Wrote pdb\n",
      "Wrote pdb\n"
     ]
    },
    {
     "data": {
      "application/vnd.jupyter.widget-view+json": {
       "model_id": "6af05b33bb2f422ba636cb3007a2681f",
       "version_major": 2,
       "version_minor": 0
      },
      "text/plain": [
       "  0%|          | 0/9 [00:00<?, ?it/s]"
      ]
     },
     "metadata": {},
     "output_type": "display_data"
    },
    {
     "name": "stdout",
     "output_type": "stream",
     "text": [
      "Wrote pdb\n",
      "Wrote pdb\n",
      "Wrote pdb\n",
      "Wrote pdb\n",
      "Wrote pdb\n",
      "Wrote pdb\n",
      "Wrote pdb\n",
      "Wrote pdb\n",
      "Wrote pdb\n"
     ]
    },
    {
     "data": {
      "application/vnd.jupyter.widget-view+json": {
       "model_id": "1937d5e3d3274731bc66f97c80fc91d5",
       "version_major": 2,
       "version_minor": 0
      },
      "text/plain": [
       "  0%|          | 0/5 [00:00<?, ?it/s]"
      ]
     },
     "metadata": {},
     "output_type": "display_data"
    },
    {
     "name": "stdout",
     "output_type": "stream",
     "text": [
      "Wrote pdb\n",
      "Wrote pdb\n",
      "Wrote pdb\n",
      "Wrote pdb\n",
      "Wrote pdb\n"
     ]
    },
    {
     "data": {
      "application/vnd.jupyter.widget-view+json": {
       "model_id": "8514af2c4a9f4f3396d7bf6201f6da0c",
       "version_major": 2,
       "version_minor": 0
      },
      "text/plain": [
       "  0%|          | 0/6 [00:00<?, ?it/s]"
      ]
     },
     "metadata": {},
     "output_type": "display_data"
    },
    {
     "name": "stdout",
     "output_type": "stream",
     "text": [
      "Wrote pdb\n",
      "Wrote pdb\n",
      "Wrote pdb\n",
      "Wrote pdb\n",
      "Wrote pdb\n",
      "Wrote pdb\n"
     ]
    }
   ],
   "source": [
    "u, frames, n_frames =  load_traj()\n",
    "\n",
    "list_peptide, list_cluster, list_first_frame, list_cluster_frames, list_the_frame = [], [], [], [], []\n",
    "for pep in pep_dict.keys():\n",
    "    list_peptide1, list_cluster1, list_first_frame1, list_cluster_frames1, list_the_frame1 = write_pdb_per_pep(pep, frames)\n",
    "    list_peptide.append(list_peptide1)\n",
    "    list_cluster.append(list_cluster1)\n",
    "    list_first_frame.append(list_first_frame1)\n",
    "    list_cluster_frames.append(list_cluster_frames1)\n",
    "    list_the_frame.append(list_the_frame1)"
   ]
  },
  {
   "cell_type": "code",
   "execution_count": 84,
   "id": "4cd50090",
   "metadata": {},
   "outputs": [],
   "source": [
    "def unpack_lists(x):\n",
    "    return_list = []\n",
    "    for i in x:\n",
    "        for e in i:\n",
    "            return_list.append(e)\n",
    "    return return_list"
   ]
  },
  {
   "cell_type": "code",
   "execution_count": 103,
   "id": "3ac2c2bc",
   "metadata": {},
   "outputs": [],
   "source": [
    "structure_dataframe = pd.DataFrame([[unpack_lists(list_peptide)[k], unpack_lists(list_cluster)[k], \n",
    "                                    unpack_lists(list_first_frame)[k], unpack_lists(list_cluster_frames)[k], unpack_lists(list_the_frame)[k]]\n",
    "                                    for k in range(len(unpack_lists(list_cluster)))],\n",
    "                                    columns=[\"peptide\", \"cluster\", \"first_frame\", \"cluster_frames\", \"the_frame\"])"
   ]
  },
  {
   "cell_type": "code",
   "execution_count": 104,
   "id": "19390875",
   "metadata": {},
   "outputs": [
    {
     "data": {
      "text/html": [
       "<div>\n",
       "<style scoped>\n",
       "    .dataframe tbody tr th:only-of-type {\n",
       "        vertical-align: middle;\n",
       "    }\n",
       "\n",
       "    .dataframe tbody tr th {\n",
       "        vertical-align: top;\n",
       "    }\n",
       "\n",
       "    .dataframe thead th {\n",
       "        text-align: right;\n",
       "    }\n",
       "</style>\n",
       "<table border=\"1\" class=\"dataframe\">\n",
       "  <thead>\n",
       "    <tr style=\"text-align: right;\">\n",
       "      <th></th>\n",
       "      <th>peptide</th>\n",
       "      <th>cluster</th>\n",
       "      <th>first_frame</th>\n",
       "      <th>cluster_frames</th>\n",
       "      <th>the_frame</th>\n",
       "    </tr>\n",
       "  </thead>\n",
       "  <tbody>\n",
       "    <tr>\n",
       "      <th>0</th>\n",
       "      <td>1</td>\n",
       "      <td>0</td>\n",
       "      <td>1000</td>\n",
       "      <td>[1000, 1050, 1100, 1150, 1200, 1250, 1300, 140...</td>\n",
       "      <td>9400</td>\n",
       "    </tr>\n",
       "    <tr>\n",
       "      <th>1</th>\n",
       "      <td>1</td>\n",
       "      <td>2</td>\n",
       "      <td>18750</td>\n",
       "      <td>[18750, 19750, 19800, 19850, 19900, 19950, 200...</td>\n",
       "      <td>32400</td>\n",
       "    </tr>\n",
       "    <tr>\n",
       "      <th>2</th>\n",
       "      <td>1</td>\n",
       "      <td>4</td>\n",
       "      <td>35800</td>\n",
       "      <td>[35800, 35850, 35900, 36000, 36200, 36250, 363...</td>\n",
       "      <td>37350</td>\n",
       "    </tr>\n",
       "    <tr>\n",
       "      <th>3</th>\n",
       "      <td>1</td>\n",
       "      <td>5</td>\n",
       "      <td>15200</td>\n",
       "      <td>[15200, 16150, 16200, 38550, 38600, 39150, 392...</td>\n",
       "      <td>40900</td>\n",
       "    </tr>\n",
       "    <tr>\n",
       "      <th>4</th>\n",
       "      <td>1</td>\n",
       "      <td>7</td>\n",
       "      <td>13700</td>\n",
       "      <td>[13700, 13750, 13850, 13900, 14000, 14050, 141...</td>\n",
       "      <td>15600</td>\n",
       "    </tr>\n",
       "    <tr>\n",
       "      <th>5</th>\n",
       "      <td>1</td>\n",
       "      <td>8</td>\n",
       "      <td>16900</td>\n",
       "      <td>[16900, 17500, 17600, 17900, 19350, 19450, 206...</td>\n",
       "      <td>25850</td>\n",
       "    </tr>\n",
       "    <tr>\n",
       "      <th>6</th>\n",
       "      <td>1</td>\n",
       "      <td>20</td>\n",
       "      <td>0</td>\n",
       "      <td>[0, 50, 100, 150, 200, 250, 300, 350, 400, 450...</td>\n",
       "      <td>550</td>\n",
       "    </tr>\n",
       "    <tr>\n",
       "      <th>7</th>\n",
       "      <td>2</td>\n",
       "      <td>11</td>\n",
       "      <td>11850</td>\n",
       "      <td>[11850]</td>\n",
       "      <td>11850</td>\n",
       "    </tr>\n",
       "    <tr>\n",
       "      <th>8</th>\n",
       "      <td>2</td>\n",
       "      <td>12</td>\n",
       "      <td>2100</td>\n",
       "      <td>[2100, 2200, 2400, 2450, 2500, 2550, 2600, 265...</td>\n",
       "      <td>6050</td>\n",
       "    </tr>\n",
       "    <tr>\n",
       "      <th>9</th>\n",
       "      <td>2</td>\n",
       "      <td>13</td>\n",
       "      <td>20250</td>\n",
       "      <td>[20250, 20350, 23250, 23300, 23350, 23400, 234...</td>\n",
       "      <td>26250</td>\n",
       "    </tr>\n",
       "    <tr>\n",
       "      <th>10</th>\n",
       "      <td>2</td>\n",
       "      <td>14</td>\n",
       "      <td>9050</td>\n",
       "      <td>[9050, 9100, 9250, 9300, 9350, 9500, 9550, 970...</td>\n",
       "      <td>19400</td>\n",
       "    </tr>\n",
       "    <tr>\n",
       "      <th>11</th>\n",
       "      <td>2</td>\n",
       "      <td>15</td>\n",
       "      <td>38450</td>\n",
       "      <td>[38450, 38500, 38550, 38600, 38650, 38700, 387...</td>\n",
       "      <td>41250</td>\n",
       "    </tr>\n",
       "    <tr>\n",
       "      <th>12</th>\n",
       "      <td>2</td>\n",
       "      <td>16</td>\n",
       "      <td>850</td>\n",
       "      <td>[850, 8900, 8950, 9000, 9150, 9200, 9400, 9450...</td>\n",
       "      <td>9200</td>\n",
       "    </tr>\n",
       "    <tr>\n",
       "      <th>13</th>\n",
       "      <td>2</td>\n",
       "      <td>17</td>\n",
       "      <td>18850</td>\n",
       "      <td>[18850, 19850, 24000, 24150, 24550, 24700, 249...</td>\n",
       "      <td>28750</td>\n",
       "    </tr>\n",
       "    <tr>\n",
       "      <th>14</th>\n",
       "      <td>2</td>\n",
       "      <td>18</td>\n",
       "      <td>23500</td>\n",
       "      <td>[23500, 23600, 23650, 23700, 24100, 24450, 246...</td>\n",
       "      <td>30100</td>\n",
       "    </tr>\n",
       "    <tr>\n",
       "      <th>15</th>\n",
       "      <td>2</td>\n",
       "      <td>20</td>\n",
       "      <td>0</td>\n",
       "      <td>[0, 50, 100, 150, 200, 250, 300, 350, 400, 450...</td>\n",
       "      <td>4600</td>\n",
       "    </tr>\n",
       "    <tr>\n",
       "      <th>16</th>\n",
       "      <td>3</td>\n",
       "      <td>1</td>\n",
       "      <td>12150</td>\n",
       "      <td>[12150, 31700, 31750, 31850, 32050, 32100, 321...</td>\n",
       "      <td>44450</td>\n",
       "    </tr>\n",
       "    <tr>\n",
       "      <th>17</th>\n",
       "      <td>3</td>\n",
       "      <td>6</td>\n",
       "      <td>25150</td>\n",
       "      <td>[25150, 25200, 25250, 25300, 25350, 25400, 257...</td>\n",
       "      <td>26000</td>\n",
       "    </tr>\n",
       "    <tr>\n",
       "      <th>18</th>\n",
       "      <td>3</td>\n",
       "      <td>9</td>\n",
       "      <td>31800</td>\n",
       "      <td>[31800, 31900, 32000, 32200, 32250, 32300, 323...</td>\n",
       "      <td>39500</td>\n",
       "    </tr>\n",
       "    <tr>\n",
       "      <th>19</th>\n",
       "      <td>3</td>\n",
       "      <td>10</td>\n",
       "      <td>0</td>\n",
       "      <td>[0, 50, 100, 150, 200, 250, 300, 350, 400, 450...</td>\n",
       "      <td>23800</td>\n",
       "    </tr>\n",
       "    <tr>\n",
       "      <th>20</th>\n",
       "      <td>4</td>\n",
       "      <td>3</td>\n",
       "      <td>47200</td>\n",
       "      <td>[47200, 47250, 47300, 47350, 47400, 47450, 475...</td>\n",
       "      <td>48400</td>\n",
       "    </tr>\n",
       "    <tr>\n",
       "      <th>21</th>\n",
       "      <td>4</td>\n",
       "      <td>11</td>\n",
       "      <td>17450</td>\n",
       "      <td>[17450, 31250, 31300, 31400, 31450, 31500, 315...</td>\n",
       "      <td>40900</td>\n",
       "    </tr>\n",
       "    <tr>\n",
       "      <th>22</th>\n",
       "      <td>4</td>\n",
       "      <td>16</td>\n",
       "      <td>4800</td>\n",
       "      <td>[4800, 4850, 4900, 5000, 5250, 5300, 5400, 545...</td>\n",
       "      <td>26150</td>\n",
       "    </tr>\n",
       "    <tr>\n",
       "      <th>23</th>\n",
       "      <td>4</td>\n",
       "      <td>19</td>\n",
       "      <td>9050</td>\n",
       "      <td>[9050, 9100, 9150, 9200, 9250, 9300, 9350, 940...</td>\n",
       "      <td>10200</td>\n",
       "    </tr>\n",
       "    <tr>\n",
       "      <th>24</th>\n",
       "      <td>4</td>\n",
       "      <td>20</td>\n",
       "      <td>0</td>\n",
       "      <td>[0, 50, 100, 150, 200, 250, 300, 350, 400, 450...</td>\n",
       "      <td>3800</td>\n",
       "    </tr>\n",
       "  </tbody>\n",
       "</table>\n",
       "</div>"
      ],
      "text/plain": [
       "    peptide  cluster  first_frame  \\\n",
       "0         1        0         1000   \n",
       "1         1        2        18750   \n",
       "2         1        4        35800   \n",
       "3         1        5        15200   \n",
       "4         1        7        13700   \n",
       "5         1        8        16900   \n",
       "6         1       20            0   \n",
       "7         2       11        11850   \n",
       "8         2       12         2100   \n",
       "9         2       13        20250   \n",
       "10        2       14         9050   \n",
       "11        2       15        38450   \n",
       "12        2       16          850   \n",
       "13        2       17        18850   \n",
       "14        2       18        23500   \n",
       "15        2       20            0   \n",
       "16        3        1        12150   \n",
       "17        3        6        25150   \n",
       "18        3        9        31800   \n",
       "19        3       10            0   \n",
       "20        4        3        47200   \n",
       "21        4       11        17450   \n",
       "22        4       16         4800   \n",
       "23        4       19         9050   \n",
       "24        4       20            0   \n",
       "\n",
       "                                       cluster_frames  the_frame  \n",
       "0   [1000, 1050, 1100, 1150, 1200, 1250, 1300, 140...       9400  \n",
       "1   [18750, 19750, 19800, 19850, 19900, 19950, 200...      32400  \n",
       "2   [35800, 35850, 35900, 36000, 36200, 36250, 363...      37350  \n",
       "3   [15200, 16150, 16200, 38550, 38600, 39150, 392...      40900  \n",
       "4   [13700, 13750, 13850, 13900, 14000, 14050, 141...      15600  \n",
       "5   [16900, 17500, 17600, 17900, 19350, 19450, 206...      25850  \n",
       "6   [0, 50, 100, 150, 200, 250, 300, 350, 400, 450...        550  \n",
       "7                                             [11850]      11850  \n",
       "8   [2100, 2200, 2400, 2450, 2500, 2550, 2600, 265...       6050  \n",
       "9   [20250, 20350, 23250, 23300, 23350, 23400, 234...      26250  \n",
       "10  [9050, 9100, 9250, 9300, 9350, 9500, 9550, 970...      19400  \n",
       "11  [38450, 38500, 38550, 38600, 38650, 38700, 387...      41250  \n",
       "12  [850, 8900, 8950, 9000, 9150, 9200, 9400, 9450...       9200  \n",
       "13  [18850, 19850, 24000, 24150, 24550, 24700, 249...      28750  \n",
       "14  [23500, 23600, 23650, 23700, 24100, 24450, 246...      30100  \n",
       "15  [0, 50, 100, 150, 200, 250, 300, 350, 400, 450...       4600  \n",
       "16  [12150, 31700, 31750, 31850, 32050, 32100, 321...      44450  \n",
       "17  [25150, 25200, 25250, 25300, 25350, 25400, 257...      26000  \n",
       "18  [31800, 31900, 32000, 32200, 32250, 32300, 323...      39500  \n",
       "19  [0, 50, 100, 150, 200, 250, 300, 350, 400, 450...      23800  \n",
       "20  [47200, 47250, 47300, 47350, 47400, 47450, 475...      48400  \n",
       "21  [17450, 31250, 31300, 31400, 31450, 31500, 315...      40900  \n",
       "22  [4800, 4850, 4900, 5000, 5250, 5300, 5400, 545...      26150  \n",
       "23  [9050, 9100, 9150, 9200, 9250, 9300, 9350, 940...      10200  \n",
       "24  [0, 50, 100, 150, 200, 250, 300, 350, 400, 450...       3800  "
      ]
     },
     "execution_count": 104,
     "metadata": {},
     "output_type": "execute_result"
    }
   ],
   "source": [
    "structure_dataframe"
   ]
  },
  {
   "cell_type": "code",
   "execution_count": 111,
   "id": "58a3806b",
   "metadata": {},
   "outputs": [
    {
     "data": {
      "text/html": [
       "<div>\n",
       "<style scoped>\n",
       "    .dataframe tbody tr th:only-of-type {\n",
       "        vertical-align: middle;\n",
       "    }\n",
       "\n",
       "    .dataframe tbody tr th {\n",
       "        vertical-align: top;\n",
       "    }\n",
       "\n",
       "    .dataframe thead th {\n",
       "        text-align: right;\n",
       "    }\n",
       "</style>\n",
       "<table border=\"1\" class=\"dataframe\">\n",
       "  <thead>\n",
       "    <tr style=\"text-align: right;\">\n",
       "      <th></th>\n",
       "      <th>pep5</th>\n",
       "      <th>pep6</th>\n",
       "      <th>pep7</th>\n",
       "      <th>pep8</th>\n",
       "    </tr>\n",
       "    <tr>\n",
       "      <th>Timeframe</th>\n",
       "      <th></th>\n",
       "      <th></th>\n",
       "      <th></th>\n",
       "      <th></th>\n",
       "    </tr>\n",
       "  </thead>\n",
       "  <tbody>\n",
       "    <tr>\n",
       "      <th>0</th>\n",
       "      <td>20</td>\n",
       "      <td>20</td>\n",
       "      <td>10</td>\n",
       "      <td>20</td>\n",
       "    </tr>\n",
       "    <tr>\n",
       "      <th>50</th>\n",
       "      <td>20</td>\n",
       "      <td>20</td>\n",
       "      <td>10</td>\n",
       "      <td>20</td>\n",
       "    </tr>\n",
       "    <tr>\n",
       "      <th>100</th>\n",
       "      <td>20</td>\n",
       "      <td>20</td>\n",
       "      <td>10</td>\n",
       "      <td>20</td>\n",
       "    </tr>\n",
       "    <tr>\n",
       "      <th>150</th>\n",
       "      <td>20</td>\n",
       "      <td>20</td>\n",
       "      <td>10</td>\n",
       "      <td>20</td>\n",
       "    </tr>\n",
       "    <tr>\n",
       "      <th>200</th>\n",
       "      <td>20</td>\n",
       "      <td>20</td>\n",
       "      <td>10</td>\n",
       "      <td>20</td>\n",
       "    </tr>\n",
       "    <tr>\n",
       "      <th>...</th>\n",
       "      <td>...</td>\n",
       "      <td>...</td>\n",
       "      <td>...</td>\n",
       "      <td>...</td>\n",
       "    </tr>\n",
       "    <tr>\n",
       "      <th>49800</th>\n",
       "      <td>5</td>\n",
       "      <td>13</td>\n",
       "      <td>9</td>\n",
       "      <td>3</td>\n",
       "    </tr>\n",
       "    <tr>\n",
       "      <th>49850</th>\n",
       "      <td>5</td>\n",
       "      <td>13</td>\n",
       "      <td>9</td>\n",
       "      <td>3</td>\n",
       "    </tr>\n",
       "    <tr>\n",
       "      <th>49900</th>\n",
       "      <td>5</td>\n",
       "      <td>13</td>\n",
       "      <td>1</td>\n",
       "      <td>3</td>\n",
       "    </tr>\n",
       "    <tr>\n",
       "      <th>49950</th>\n",
       "      <td>5</td>\n",
       "      <td>13</td>\n",
       "      <td>1</td>\n",
       "      <td>3</td>\n",
       "    </tr>\n",
       "    <tr>\n",
       "      <th>50000</th>\n",
       "      <td>5</td>\n",
       "      <td>13</td>\n",
       "      <td>9</td>\n",
       "      <td>3</td>\n",
       "    </tr>\n",
       "  </tbody>\n",
       "</table>\n",
       "<p>1001 rows × 4 columns</p>\n",
       "</div>"
      ],
      "text/plain": [
       "           pep5  pep6  pep7  pep8\n",
       "Timeframe                        \n",
       "0            20    20    10    20\n",
       "50           20    20    10    20\n",
       "100          20    20    10    20\n",
       "150          20    20    10    20\n",
       "200          20    20    10    20\n",
       "...         ...   ...   ...   ...\n",
       "49800         5    13     9     3\n",
       "49850         5    13     9     3\n",
       "49900         5    13     1     3\n",
       "49950         5    13     1     3\n",
       "50000         5    13     9     3\n",
       "\n",
       "[1001 rows x 4 columns]"
      ]
     },
     "execution_count": 111,
     "metadata": {},
     "output_type": "execute_result"
    }
   ],
   "source": [
    "cluster_frames_saved.set_index(\"Timeframe\")"
   ]
  },
  {
   "cell_type": "code",
   "execution_count": 114,
   "id": "37c1e185",
   "metadata": {},
   "outputs": [
    {
     "data": {
      "text/html": [
       "<div>\n",
       "<style scoped>\n",
       "    .dataframe tbody tr th:only-of-type {\n",
       "        vertical-align: middle;\n",
       "    }\n",
       "\n",
       "    .dataframe tbody tr th {\n",
       "        vertical-align: top;\n",
       "    }\n",
       "\n",
       "    .dataframe thead th {\n",
       "        text-align: right;\n",
       "    }\n",
       "</style>\n",
       "<table border=\"1\" class=\"dataframe\">\n",
       "  <thead>\n",
       "    <tr style=\"text-align: right;\">\n",
       "      <th></th>\n",
       "      <th>Timeframe</th>\n",
       "      <th>pep5</th>\n",
       "      <th>pep6</th>\n",
       "      <th>pep7</th>\n",
       "      <th>pep8</th>\n",
       "    </tr>\n",
       "  </thead>\n",
       "  <tbody>\n",
       "    <tr>\n",
       "      <th>338</th>\n",
       "      <td>16900</td>\n",
       "      <td>8</td>\n",
       "      <td>14</td>\n",
       "      <td>10</td>\n",
       "      <td>16</td>\n",
       "    </tr>\n",
       "    <tr>\n",
       "      <th>350</th>\n",
       "      <td>17500</td>\n",
       "      <td>8</td>\n",
       "      <td>14</td>\n",
       "      <td>10</td>\n",
       "      <td>16</td>\n",
       "    </tr>\n",
       "    <tr>\n",
       "      <th>352</th>\n",
       "      <td>17600</td>\n",
       "      <td>8</td>\n",
       "      <td>14</td>\n",
       "      <td>10</td>\n",
       "      <td>16</td>\n",
       "    </tr>\n",
       "    <tr>\n",
       "      <th>358</th>\n",
       "      <td>17900</td>\n",
       "      <td>8</td>\n",
       "      <td>14</td>\n",
       "      <td>10</td>\n",
       "      <td>16</td>\n",
       "    </tr>\n",
       "    <tr>\n",
       "      <th>387</th>\n",
       "      <td>19350</td>\n",
       "      <td>8</td>\n",
       "      <td>14</td>\n",
       "      <td>10</td>\n",
       "      <td>16</td>\n",
       "    </tr>\n",
       "    <tr>\n",
       "      <th>...</th>\n",
       "      <td>...</td>\n",
       "      <td>...</td>\n",
       "      <td>...</td>\n",
       "      <td>...</td>\n",
       "      <td>...</td>\n",
       "    </tr>\n",
       "    <tr>\n",
       "      <th>761</th>\n",
       "      <td>38050</td>\n",
       "      <td>8</td>\n",
       "      <td>17</td>\n",
       "      <td>9</td>\n",
       "      <td>11</td>\n",
       "    </tr>\n",
       "    <tr>\n",
       "      <th>762</th>\n",
       "      <td>38100</td>\n",
       "      <td>8</td>\n",
       "      <td>18</td>\n",
       "      <td>1</td>\n",
       "      <td>11</td>\n",
       "    </tr>\n",
       "    <tr>\n",
       "      <th>774</th>\n",
       "      <td>38700</td>\n",
       "      <td>8</td>\n",
       "      <td>15</td>\n",
       "      <td>9</td>\n",
       "      <td>11</td>\n",
       "    </tr>\n",
       "    <tr>\n",
       "      <th>780</th>\n",
       "      <td>39000</td>\n",
       "      <td>8</td>\n",
       "      <td>15</td>\n",
       "      <td>9</td>\n",
       "      <td>11</td>\n",
       "    </tr>\n",
       "    <tr>\n",
       "      <th>781</th>\n",
       "      <td>39050</td>\n",
       "      <td>8</td>\n",
       "      <td>15</td>\n",
       "      <td>9</td>\n",
       "      <td>11</td>\n",
       "    </tr>\n",
       "  </tbody>\n",
       "</table>\n",
       "<p>224 rows × 5 columns</p>\n",
       "</div>"
      ],
      "text/plain": [
       "     Timeframe  pep5  pep6  pep7  pep8\n",
       "338      16900     8    14    10    16\n",
       "350      17500     8    14    10    16\n",
       "352      17600     8    14    10    16\n",
       "358      17900     8    14    10    16\n",
       "387      19350     8    14    10    16\n",
       "..         ...   ...   ...   ...   ...\n",
       "761      38050     8    17     9    11\n",
       "762      38100     8    18     1    11\n",
       "774      38700     8    15     9    11\n",
       "780      39000     8    15     9    11\n",
       "781      39050     8    15     9    11\n",
       "\n",
       "[224 rows x 5 columns]"
      ]
     },
     "execution_count": 114,
     "metadata": {},
     "output_type": "execute_result"
    }
   ],
   "source": [
    "cluster_frames_saved.loc[cluster_frames_saved['pep5'] == 8]"
   ]
  },
  {
   "cell_type": "code",
   "execution_count": null,
   "id": "217b5de7",
   "metadata": {},
   "outputs": [],
   "source": []
  }
 ],
 "metadata": {
  "kernelspec": {
   "display_name": "py39_umap",
   "language": "python",
   "name": "python3"
  },
  "language_info": {
   "codemirror_mode": {
    "name": "ipython",
    "version": 3
   },
   "file_extension": ".py",
   "mimetype": "text/x-python",
   "name": "python",
   "nbconvert_exporter": "python",
   "pygments_lexer": "ipython3",
   "version": "3.9.16"
  },
  "vscode": {
   "interpreter": {
    "hash": "4aeabc445cebae8197e01adde575c67abf9343275ea13f41f55cdede21c262c7"
   }
  },
  "widgets": {
   "application/vnd.jupyter.widget-state+json": {
    "state": {
     "0d003aed187d4e02b3c6ab1290d2e0a7": {
      "model_module": "@jupyter-widgets/base",
      "model_module_version": "1.2.0",
      "model_name": "LayoutModel",
      "state": {}
     },
     "11bf72f6df924a93a9d1953889321f67": {
      "model_module": "@jupyter-widgets/controls",
      "model_module_version": "1.5.0",
      "model_name": "ProgressStyleModel",
      "state": {
       "description_width": ""
      }
     },
     "2a22b6e3a0e7428096e0a9a13bd84f1f": {
      "model_module": "@jupyter-widgets/controls",
      "model_module_version": "1.5.0",
      "model_name": "DescriptionStyleModel",
      "state": {
       "description_width": ""
      }
     },
     "36a357fe2a314c01b3f2ef32e19cc9ad": {
      "model_module": "@jupyter-widgets/controls",
      "model_module_version": "1.5.0",
      "model_name": "FloatProgressModel",
      "state": {
       "bar_style": "success",
       "layout": "IPY_MODEL_0d003aed187d4e02b3c6ab1290d2e0a7",
       "max": 219,
       "style": "IPY_MODEL_442987bf00c1436db99d82a3ae42206c",
       "value": 219
      }
     },
     "3c3b17d92ec74dd297ef3ee5d390a86b": {
      "model_module": "@jupyter-widgets/base",
      "model_module_version": "1.2.0",
      "model_name": "LayoutModel",
      "state": {}
     },
     "400118e2a12e4910906915953b55980b": {
      "model_module": "@jupyter-widgets/controls",
      "model_module_version": "1.5.0",
      "model_name": "HBoxModel",
      "state": {
       "children": [
        "IPY_MODEL_bb193871cc574311840503a63f3e6add",
        "IPY_MODEL_c841161822fc41bcbad20f1d3cde5eac",
        "IPY_MODEL_f60af9676b4b4492b7d627bacf5a7004"
       ],
       "layout": "IPY_MODEL_e8bb0ef4943c490db9eee070079fa39a"
      }
     },
     "442987bf00c1436db99d82a3ae42206c": {
      "model_module": "@jupyter-widgets/controls",
      "model_module_version": "1.5.0",
      "model_name": "ProgressStyleModel",
      "state": {
       "description_width": ""
      }
     },
     "5b111888c5d843bd94229cdb11fec2bf": {
      "model_module": "@jupyter-widgets/base",
      "model_module_version": "1.2.0",
      "model_name": "LayoutModel",
      "state": {}
     },
     "6fb5d09f52a74109ab03b80ae8fb4aa6": {
      "model_module": "@jupyter-widgets/controls",
      "model_module_version": "1.5.0",
      "model_name": "HBoxModel",
      "state": {
       "children": [
        "IPY_MODEL_8c460d791d9c43a1a413416cb66164ab",
        "IPY_MODEL_36a357fe2a314c01b3f2ef32e19cc9ad",
        "IPY_MODEL_8b656a7703f9480d85ded3d80a788f90"
       ],
       "layout": "IPY_MODEL_5b111888c5d843bd94229cdb11fec2bf"
      }
     },
     "87c9d13bb0a54607b4ddc31b679cbdd9": {
      "model_module": "@jupyter-widgets/base",
      "model_module_version": "1.2.0",
      "model_name": "LayoutModel",
      "state": {}
     },
     "8836da7ab05b458a923705af13925e6b": {
      "model_module": "@jupyter-widgets/controls",
      "model_module_version": "1.5.0",
      "model_name": "DescriptionStyleModel",
      "state": {
       "description_width": ""
      }
     },
     "8b656a7703f9480d85ded3d80a788f90": {
      "model_module": "@jupyter-widgets/controls",
      "model_module_version": "1.5.0",
      "model_name": "HTMLModel",
      "state": {
       "layout": "IPY_MODEL_3c3b17d92ec74dd297ef3ee5d390a86b",
       "style": "IPY_MODEL_aaf6684686c64bafb8bdbfab3e56795c",
       "value": " 219/219 [00:02&lt;00:00, 99.66it/s]"
      }
     },
     "8c460d791d9c43a1a413416cb66164ab": {
      "model_module": "@jupyter-widgets/controls",
      "model_module_version": "1.5.0",
      "model_name": "HTMLModel",
      "state": {
       "layout": "IPY_MODEL_c69db64b14d14cd38bd4d889fba772b7",
       "style": "IPY_MODEL_2a22b6e3a0e7428096e0a9a13bd84f1f",
       "value": "100%"
      }
     },
     "aaf6684686c64bafb8bdbfab3e56795c": {
      "model_module": "@jupyter-widgets/controls",
      "model_module_version": "1.5.0",
      "model_name": "DescriptionStyleModel",
      "state": {
       "description_width": ""
      }
     },
     "bb193871cc574311840503a63f3e6add": {
      "model_module": "@jupyter-widgets/controls",
      "model_module_version": "1.5.0",
      "model_name": "HTMLModel",
      "state": {
       "layout": "IPY_MODEL_87c9d13bb0a54607b4ddc31b679cbdd9",
       "style": "IPY_MODEL_8836da7ab05b458a923705af13925e6b",
       "value": "100%"
      }
     },
     "c69db64b14d14cd38bd4d889fba772b7": {
      "model_module": "@jupyter-widgets/base",
      "model_module_version": "1.2.0",
      "model_name": "LayoutModel",
      "state": {}
     },
     "c75ed366c85a41d0a369f738f1428e69": {
      "model_module": "@jupyter-widgets/controls",
      "model_module_version": "1.5.0",
      "model_name": "DescriptionStyleModel",
      "state": {
       "description_width": ""
      }
     },
     "c7e2ca68909147a29706bc71d30b19f1": {
      "model_module": "@jupyter-widgets/base",
      "model_module_version": "1.2.0",
      "model_name": "LayoutModel",
      "state": {}
     },
     "c841161822fc41bcbad20f1d3cde5eac": {
      "model_module": "@jupyter-widgets/controls",
      "model_module_version": "1.5.0",
      "model_name": "FloatProgressModel",
      "state": {
       "bar_style": "success",
       "layout": "IPY_MODEL_f0992692f28b4758b9e3a28c623c12ad",
       "max": 219,
       "style": "IPY_MODEL_11bf72f6df924a93a9d1953889321f67",
       "value": 219
      }
     },
     "e8bb0ef4943c490db9eee070079fa39a": {
      "model_module": "@jupyter-widgets/base",
      "model_module_version": "1.2.0",
      "model_name": "LayoutModel",
      "state": {}
     },
     "f0992692f28b4758b9e3a28c623c12ad": {
      "model_module": "@jupyter-widgets/base",
      "model_module_version": "1.2.0",
      "model_name": "LayoutModel",
      "state": {}
     },
     "f60af9676b4b4492b7d627bacf5a7004": {
      "model_module": "@jupyter-widgets/controls",
      "model_module_version": "1.5.0",
      "model_name": "HTMLModel",
      "state": {
       "layout": "IPY_MODEL_c7e2ca68909147a29706bc71d30b19f1",
       "style": "IPY_MODEL_c75ed366c85a41d0a369f738f1428e69",
       "value": " 219/219 [00:02&lt;00:00, 98.09it/s]"
      }
     }
    },
    "version_major": 2,
    "version_minor": 0
   }
  }
 },
 "nbformat": 4,
 "nbformat_minor": 5
}
